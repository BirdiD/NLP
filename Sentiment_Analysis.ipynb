{
  "nbformat": 4,
  "nbformat_minor": 0,
  "metadata": {
    "colab": {
      "name": "Sentiment_Analysis.ipynb",
      "provenance": [],
      "collapsed_sections": [],
      "authorship_tag": "ABX9TyNaJOHcG8Z04xWqt8urp2+R",
      "include_colab_link": true
    },
    "kernelspec": {
      "name": "python3",
      "display_name": "Python 3"
    }
  },
  "cells": [
    {
      "cell_type": "markdown",
      "metadata": {
        "id": "view-in-github",
        "colab_type": "text"
      },
      "source": [
        "<a href=\"https://colab.research.google.com/github/BirdiD/NLP/blob/master/Sentiment_Analysis.ipynb\" target=\"_parent\"><img src=\"https://colab.research.google.com/assets/colab-badge.svg\" alt=\"Open In Colab\"/></a>"
      ]
    },
    {
      "cell_type": "markdown",
      "metadata": {
        "id": "ZRsgABB38oc1",
        "colab_type": "text"
      },
      "source": [
        "#**Sentiment Analysis with Logistic Regression**"
      ]
    },
    {
      "cell_type": "markdown",
      "metadata": {
        "id": "rZR2P1cQrHkd",
        "colab_type": "text"
      },
      "source": [
        "Sentiment Analysis is the process of interpreting and classifying polarity   within a text data. It uses Natural Language Processing & text analysis techniques to determine whether a text expresses a positive, negative or a neutral emotion. It is used by businesses to help them understand the social sentiment of their product or the service they provide. "
      ]
    },
    {
      "cell_type": "markdown",
      "metadata": {
        "id": "8UTLyzFVu_0n",
        "colab_type": "text"
      },
      "source": [
        "##Setup"
      ]
    },
    {
      "cell_type": "code",
      "metadata": {
        "id": "UxiTrXhQzCwb",
        "colab_type": "code",
        "colab": {}
      },
      "source": [
        "import numpy as np \n",
        "import pandas as pd \n",
        "import re\n",
        "import nltk \n",
        "import matplotlib.pyplot as plt\n",
        "from sklearn.feature_extraction.text import CountVectorizer\n",
        "from sklearn.model_selection import train_test_split\n"
      ],
      "execution_count": 67,
      "outputs": []
    },
    {
      "cell_type": "markdown",
      "metadata": {
        "id": "uzNRjNq8qTsF",
        "colab_type": "text"
      },
      "source": [
        "##Download the data"
      ]
    },
    {
      "cell_type": "code",
      "metadata": {
        "id": "Wzr4cCVO2HkX",
        "colab_type": "code",
        "colab": {}
      },
      "source": [
        "data = pd.read_csv('Airline-Sentiment-2-w-AA.csv', encoding = \"ISO-8859-1\")"
      ],
      "execution_count": 68,
      "outputs": []
    },
    {
      "cell_type": "code",
      "metadata": {
        "id": "ljkNpBvf2N6v",
        "colab_type": "code",
        "colab": {
          "base_uri": "https://localhost:8080/",
          "height": 302
        },
        "outputId": "66f4ab1a-b907-4914-cc01-5fd926ef1a37"
      },
      "source": [
        "data.head(3)"
      ],
      "execution_count": 69,
      "outputs": [
        {
          "output_type": "execute_result",
          "data": {
            "text/html": [
              "<div>\n",
              "<style scoped>\n",
              "    .dataframe tbody tr th:only-of-type {\n",
              "        vertical-align: middle;\n",
              "    }\n",
              "\n",
              "    .dataframe tbody tr th {\n",
              "        vertical-align: top;\n",
              "    }\n",
              "\n",
              "    .dataframe thead th {\n",
              "        text-align: right;\n",
              "    }\n",
              "</style>\n",
              "<table border=\"1\" class=\"dataframe\">\n",
              "  <thead>\n",
              "    <tr style=\"text-align: right;\">\n",
              "      <th></th>\n",
              "      <th>_unit_id</th>\n",
              "      <th>_golden</th>\n",
              "      <th>_unit_state</th>\n",
              "      <th>_trusted_judgments</th>\n",
              "      <th>_last_judgment_at</th>\n",
              "      <th>airline_sentiment</th>\n",
              "      <th>airline_sentiment:confidence</th>\n",
              "      <th>negativereason</th>\n",
              "      <th>negativereason:confidence</th>\n",
              "      <th>airline</th>\n",
              "      <th>airline_sentiment_gold</th>\n",
              "      <th>name</th>\n",
              "      <th>negativereason_gold</th>\n",
              "      <th>retweet_count</th>\n",
              "      <th>text</th>\n",
              "      <th>tweet_coord</th>\n",
              "      <th>tweet_created</th>\n",
              "      <th>tweet_id</th>\n",
              "      <th>tweet_location</th>\n",
              "      <th>user_timezone</th>\n",
              "    </tr>\n",
              "  </thead>\n",
              "  <tbody>\n",
              "    <tr>\n",
              "      <th>0</th>\n",
              "      <td>681448150</td>\n",
              "      <td>False</td>\n",
              "      <td>finalized</td>\n",
              "      <td>3</td>\n",
              "      <td>2/25/15 5:24</td>\n",
              "      <td>neutral</td>\n",
              "      <td>1.0000</td>\n",
              "      <td>NaN</td>\n",
              "      <td>NaN</td>\n",
              "      <td>Virgin America</td>\n",
              "      <td>NaN</td>\n",
              "      <td>cairdin</td>\n",
              "      <td>NaN</td>\n",
              "      <td>0</td>\n",
              "      <td>@VirginAmerica What @dhepburn said.</td>\n",
              "      <td>NaN</td>\n",
              "      <td>2/24/15 11:35</td>\n",
              "      <td>5.703060e+17</td>\n",
              "      <td>NaN</td>\n",
              "      <td>Eastern Time (US &amp; Canada)</td>\n",
              "    </tr>\n",
              "    <tr>\n",
              "      <th>1</th>\n",
              "      <td>681448153</td>\n",
              "      <td>False</td>\n",
              "      <td>finalized</td>\n",
              "      <td>3</td>\n",
              "      <td>2/25/15 1:53</td>\n",
              "      <td>positive</td>\n",
              "      <td>0.3486</td>\n",
              "      <td>NaN</td>\n",
              "      <td>0.0</td>\n",
              "      <td>Virgin America</td>\n",
              "      <td>NaN</td>\n",
              "      <td>jnardino</td>\n",
              "      <td>NaN</td>\n",
              "      <td>0</td>\n",
              "      <td>@VirginAmerica plus you've added commercials t...</td>\n",
              "      <td>NaN</td>\n",
              "      <td>2/24/15 11:15</td>\n",
              "      <td>5.703010e+17</td>\n",
              "      <td>NaN</td>\n",
              "      <td>Pacific Time (US &amp; Canada)</td>\n",
              "    </tr>\n",
              "    <tr>\n",
              "      <th>2</th>\n",
              "      <td>681448156</td>\n",
              "      <td>False</td>\n",
              "      <td>finalized</td>\n",
              "      <td>3</td>\n",
              "      <td>2/25/15 10:01</td>\n",
              "      <td>neutral</td>\n",
              "      <td>0.6837</td>\n",
              "      <td>NaN</td>\n",
              "      <td>NaN</td>\n",
              "      <td>Virgin America</td>\n",
              "      <td>NaN</td>\n",
              "      <td>yvonnalynn</td>\n",
              "      <td>NaN</td>\n",
              "      <td>0</td>\n",
              "      <td>@VirginAmerica I didn't today... Must mean I n...</td>\n",
              "      <td>NaN</td>\n",
              "      <td>2/24/15 11:15</td>\n",
              "      <td>5.703010e+17</td>\n",
              "      <td>Lets Play</td>\n",
              "      <td>Central Time (US &amp; Canada)</td>\n",
              "    </tr>\n",
              "  </tbody>\n",
              "</table>\n",
              "</div>"
            ],
            "text/plain": [
              "    _unit_id  _golden  ... tweet_location               user_timezone\n",
              "0  681448150    False  ...            NaN  Eastern Time (US & Canada)\n",
              "1  681448153    False  ...            NaN  Pacific Time (US & Canada)\n",
              "2  681448156    False  ...      Lets Play  Central Time (US & Canada)\n",
              "\n",
              "[3 rows x 20 columns]"
            ]
          },
          "metadata": {
            "tags": []
          },
          "execution_count": 69
        }
      ]
    },
    {
      "cell_type": "markdown",
      "metadata": {
        "id": "Xt_IubKRqcpF",
        "colab_type": "text"
      },
      "source": [
        "Let's get rid of columns we do not need for the sentiment analysis. The only columns to be left are the sentiment one (Positive, Negative or neutral) and the tweets. We will also keep the airline columns just to see the amount of reviews each company gets."
      ]
    },
    {
      "cell_type": "code",
      "metadata": {
        "id": "9aB_1dSc3CuW",
        "colab_type": "code",
        "colab": {}
      },
      "source": [
        "trash = ['_unit_id','_golden', 'airline_sentiment:confidence','_unit_state','_trusted_judgments','_last_judgment_at','negativereason','negativereason:confidence','airline_sentiment_gold','name','negativereason_gold','retweet_count','tweet_coord','tweet_created','tweet_id','tweet_location','user_timezone']\n",
        "new_data = data.drop(trash, axis=1)"
      ],
      "execution_count": 70,
      "outputs": []
    },
    {
      "cell_type": "code",
      "metadata": {
        "id": "LNpNY8fl3uhl",
        "colab_type": "code",
        "colab": {
          "base_uri": "https://localhost:8080/",
          "height": 424
        },
        "outputId": "e9b29150-5924-4e5e-f793-febee59acc06"
      },
      "source": [
        "new_data = new_data.reindex(['airline_sentiment', 'text', 'airline'], axis=1)\n",
        "new_data.columns = ['sentiment', 'tweets', 'airline'] \n",
        "new_data"
      ],
      "execution_count": 71,
      "outputs": [
        {
          "output_type": "execute_result",
          "data": {
            "text/html": [
              "<div>\n",
              "<style scoped>\n",
              "    .dataframe tbody tr th:only-of-type {\n",
              "        vertical-align: middle;\n",
              "    }\n",
              "\n",
              "    .dataframe tbody tr th {\n",
              "        vertical-align: top;\n",
              "    }\n",
              "\n",
              "    .dataframe thead th {\n",
              "        text-align: right;\n",
              "    }\n",
              "</style>\n",
              "<table border=\"1\" class=\"dataframe\">\n",
              "  <thead>\n",
              "    <tr style=\"text-align: right;\">\n",
              "      <th></th>\n",
              "      <th>sentiment</th>\n",
              "      <th>tweets</th>\n",
              "      <th>airline</th>\n",
              "    </tr>\n",
              "  </thead>\n",
              "  <tbody>\n",
              "    <tr>\n",
              "      <th>0</th>\n",
              "      <td>neutral</td>\n",
              "      <td>@VirginAmerica What @dhepburn said.</td>\n",
              "      <td>Virgin America</td>\n",
              "    </tr>\n",
              "    <tr>\n",
              "      <th>1</th>\n",
              "      <td>positive</td>\n",
              "      <td>@VirginAmerica plus you've added commercials t...</td>\n",
              "      <td>Virgin America</td>\n",
              "    </tr>\n",
              "    <tr>\n",
              "      <th>2</th>\n",
              "      <td>neutral</td>\n",
              "      <td>@VirginAmerica I didn't today... Must mean I n...</td>\n",
              "      <td>Virgin America</td>\n",
              "    </tr>\n",
              "    <tr>\n",
              "      <th>3</th>\n",
              "      <td>negative</td>\n",
              "      <td>@VirginAmerica it's really aggressive to blast...</td>\n",
              "      <td>Virgin America</td>\n",
              "    </tr>\n",
              "    <tr>\n",
              "      <th>4</th>\n",
              "      <td>negative</td>\n",
              "      <td>@VirginAmerica and it's a really big bad thing...</td>\n",
              "      <td>Virgin America</td>\n",
              "    </tr>\n",
              "    <tr>\n",
              "      <th>...</th>\n",
              "      <td>...</td>\n",
              "      <td>...</td>\n",
              "      <td>...</td>\n",
              "    </tr>\n",
              "    <tr>\n",
              "      <th>14635</th>\n",
              "      <td>positive</td>\n",
              "      <td>@AmericanAir thank you we got on a different f...</td>\n",
              "      <td>American</td>\n",
              "    </tr>\n",
              "    <tr>\n",
              "      <th>14636</th>\n",
              "      <td>negative</td>\n",
              "      <td>@AmericanAir leaving over 20 minutes Late Flig...</td>\n",
              "      <td>American</td>\n",
              "    </tr>\n",
              "    <tr>\n",
              "      <th>14637</th>\n",
              "      <td>neutral</td>\n",
              "      <td>@AmericanAir Please bring American Airlines to...</td>\n",
              "      <td>American</td>\n",
              "    </tr>\n",
              "    <tr>\n",
              "      <th>14638</th>\n",
              "      <td>negative</td>\n",
              "      <td>@AmericanAir you have my money, you change my ...</td>\n",
              "      <td>American</td>\n",
              "    </tr>\n",
              "    <tr>\n",
              "      <th>14639</th>\n",
              "      <td>neutral</td>\n",
              "      <td>@AmericanAir we have 8 ppl so we need 2 know h...</td>\n",
              "      <td>American</td>\n",
              "    </tr>\n",
              "  </tbody>\n",
              "</table>\n",
              "<p>14640 rows × 3 columns</p>\n",
              "</div>"
            ],
            "text/plain": [
              "      sentiment  ...         airline\n",
              "0       neutral  ...  Virgin America\n",
              "1      positive  ...  Virgin America\n",
              "2       neutral  ...  Virgin America\n",
              "3      negative  ...  Virgin America\n",
              "4      negative  ...  Virgin America\n",
              "...         ...  ...             ...\n",
              "14635  positive  ...        American\n",
              "14636  negative  ...        American\n",
              "14637   neutral  ...        American\n",
              "14638  negative  ...        American\n",
              "14639   neutral  ...        American\n",
              "\n",
              "[14640 rows x 3 columns]"
            ]
          },
          "metadata": {
            "tags": []
          },
          "execution_count": 71
        }
      ]
    },
    {
      "cell_type": "markdown",
      "metadata": {
        "id": "45C9kHZHwyvu",
        "colab_type": "text"
      },
      "source": [
        "We will store the tweets as list. Individual tweets are stored as strings"
      ]
    },
    {
      "cell_type": "markdown",
      "metadata": {
        "id": "4rkrbljxjMdH",
        "colab_type": "text"
      },
      "source": [
        "#Data Analysis"
      ]
    },
    {
      "cell_type": "code",
      "metadata": {
        "id": "TLKcmaeovxWZ",
        "colab_type": "code",
        "colab": {
          "base_uri": "https://localhost:8080/",
          "height": 175
        },
        "outputId": "22ecf80b-c5a0-4b7b-f767-1750a1950536"
      },
      "source": [
        "new_data.describe()"
      ],
      "execution_count": 72,
      "outputs": [
        {
          "output_type": "execute_result",
          "data": {
            "text/html": [
              "<div>\n",
              "<style scoped>\n",
              "    .dataframe tbody tr th:only-of-type {\n",
              "        vertical-align: middle;\n",
              "    }\n",
              "\n",
              "    .dataframe tbody tr th {\n",
              "        vertical-align: top;\n",
              "    }\n",
              "\n",
              "    .dataframe thead th {\n",
              "        text-align: right;\n",
              "    }\n",
              "</style>\n",
              "<table border=\"1\" class=\"dataframe\">\n",
              "  <thead>\n",
              "    <tr style=\"text-align: right;\">\n",
              "      <th></th>\n",
              "      <th>sentiment</th>\n",
              "      <th>tweets</th>\n",
              "      <th>airline</th>\n",
              "    </tr>\n",
              "  </thead>\n",
              "  <tbody>\n",
              "    <tr>\n",
              "      <th>count</th>\n",
              "      <td>14640</td>\n",
              "      <td>14640</td>\n",
              "      <td>14640</td>\n",
              "    </tr>\n",
              "    <tr>\n",
              "      <th>unique</th>\n",
              "      <td>3</td>\n",
              "      <td>14427</td>\n",
              "      <td>6</td>\n",
              "    </tr>\n",
              "    <tr>\n",
              "      <th>top</th>\n",
              "      <td>negative</td>\n",
              "      <td>@united thanks</td>\n",
              "      <td>United</td>\n",
              "    </tr>\n",
              "    <tr>\n",
              "      <th>freq</th>\n",
              "      <td>9178</td>\n",
              "      <td>6</td>\n",
              "      <td>3822</td>\n",
              "    </tr>\n",
              "  </tbody>\n",
              "</table>\n",
              "</div>"
            ],
            "text/plain": [
              "       sentiment          tweets airline\n",
              "count      14640           14640   14640\n",
              "unique         3           14427       6\n",
              "top     negative  @united thanks  United\n",
              "freq        9178               6    3822"
            ]
          },
          "metadata": {
            "tags": []
          },
          "execution_count": 72
        }
      ]
    },
    {
      "cell_type": "code",
      "metadata": {
        "id": "FywKN8O1O8TE",
        "colab_type": "code",
        "colab": {
          "base_uri": "https://localhost:8080/",
          "height": 35
        },
        "outputId": "84955da8-52e7-415f-adca-484edc7efe86"
      },
      "source": [
        "from collections import Counter\n",
        "Counter(new_data['sentiment'])\n"
      ],
      "execution_count": 73,
      "outputs": [
        {
          "output_type": "execute_result",
          "data": {
            "text/plain": [
              "Counter({'negative': 9178, 'neutral': 3099, 'positive': 2363})"
            ]
          },
          "metadata": {
            "tags": []
          },
          "execution_count": 73
        }
      ]
    },
    {
      "cell_type": "markdown",
      "metadata": {
        "id": "J9iImxBqieOc",
        "colab_type": "text"
      },
      "source": [
        "There are free unique sentiments in the dataset (Positive, Negative and Neutral). As you can see above, the dataset is imbalanced. There are far more negative comments than the positive ones. The dataset  reflects the real distributions of positive and negative classes in live Twitter streams. There are 6 different airlines in our a dataset. Let's use Matplotlib's pyplot to make a more visually appealing report"
      ]
    },
    {
      "cell_type": "code",
      "metadata": {
        "id": "6c9Ejc0oW1Ig",
        "colab_type": "code",
        "colab": {
          "base_uri": "https://localhost:8080/",
          "height": 307
        },
        "outputId": "5e8268b5-7d51-4783-bc37-42356cd8c6c2"
      },
      "source": [
        "# Declare a figure with a custom size\n",
        "fig = plt.figure(figsize=(5, 5))\n",
        "# labels for the 3 classes\n",
        "labels = 'Positives', 'Negative', 'Neutral'\n",
        "# Sizes for each slide\n",
        "sizes = [2363, 9178, 3099] \n",
        "# Declare pie chart, where the slices will be ordered and plotted counter-clockwise:\n",
        "plt.pie(sizes, labels=labels, autopct='%1.1f%%',\n",
        "        shadow=True, startangle=90)\n",
        "# Equal aspect ratio ensures that pie is drawn as a circle.\n",
        "plt.axis('equal')  \n",
        "# Display the chart\n",
        "plt.show()"
      ],
      "execution_count": 74,
      "outputs": [
        {
          "output_type": "display_data",
          "data": {
            "image/png": "[encoded data removed]",
            "text/plain": [
              "<Figure size 360x360 with 1 Axes>"
            ]
          },
          "metadata": {
            "tags": []
          }
        }
      ]
    },
    {
      "cell_type": "code",
      "metadata": {
        "id": "dqmtiu28tMCX",
        "colab_type": "code",
        "colab": {
          "base_uri": "https://localhost:8080/",
          "height": 266
        },
        "outputId": "bbe4a273-c503-4dc3-d2dc-abd4aafcffe8"
      },
      "source": [
        "new_data.airline.value_counts().plot(kind='pie', autopct='%1.0f%%')"
      ],
      "execution_count": 75,
      "outputs": [
        {
          "output_type": "execute_result",
          "data": {
            "text/plain": [
              "<matplotlib.axes._subplots.AxesSubplot at 0x7f9706b4af60>"
            ]
          },
          "metadata": {
            "tags": []
          },
          "execution_count": 75
        },
        {
          "output_type": "display_data",
          "data": {
            "image/png": "[encoded data removed]",
            "text/plain": [
              "<Figure size 432x288 with 1 Axes>"
            ]
          },
          "metadata": {
            "tags": []
          }
        }
      ]
    },
    {
      "cell_type": "markdown",
      "metadata": {
        "id": "hSz4uPUakNS9",
        "colab_type": "text"
      },
      "source": [
        "#Preprocessing"
      ]
    },
    {
      "cell_type": "markdown",
      "metadata": {
        "id": "my69dqH5kfei",
        "colab_type": "text"
      },
      "source": [
        "Before anything else, we can print a couple of tweets from the dataset to see how they look. Understanding the data is responsible for 80% of the success or failure in data science projects. We can use this time to observe aspects we'd like to consider when preprocessing our data.\n",
        "\n",
        "Below, we print one random tweet. There are few things you can notice with this tweet. We can observe mentions, some special characters, the hashtag, punctuations and so on."
      ]
    },
    {
      "cell_type": "code",
      "metadata": {
        "id": "jnBkTHY4t_qu",
        "colab_type": "code",
        "colab": {
          "base_uri": "https://localhost:8080/",
          "height": 55
        },
        "outputId": "4374f053-cfaf-4d82-c95c-57ff619ceb2c"
      },
      "source": [
        "import random\n",
        "\n",
        "print (new_data['tweets'][100])"
      ],
      "execution_count": 76,
      "outputs": [
        {
          "output_type": "stream",
          "text": [
            "@VirginAmerica trying to add my boy Prince to my ressie. SF this Thursday @VirginAmerica from LAX http://t.co/GsB2J3c4gM\n"
          ],
          "name": "stdout"
        }
      ]
    },
    {
      "cell_type": "markdown",
      "metadata": {
        "id": "bTLYxFBYmmoj",
        "colab_type": "text"
      },
      "source": [
        "Data preprocessing is one of the critical steps in any machine learning project. It includes cleaning and formatting the data before feeding into a machine learning algorithm. For NLP, the preprocessing steps are comprised of the following tasks:\n",
        "\n",
        "* Tokenizing the string\n",
        "* Lowercasing\n",
        "* Removing stop words and punctuation\n",
        "* Stemming\n",
        "\n",
        "**Let's do it with one tweet before just to see it works**\n"
      ]
    },
    {
      "cell_type": "code",
      "metadata": {
        "id": "xkTLkfZ3lT5x",
        "colab_type": "code",
        "colab": {
          "base_uri": "https://localhost:8080/",
          "height": 55
        },
        "outputId": "1ffd590e-aab6-4309-dd97-aa2ea3d8e853"
      },
      "source": [
        "tweets = new_data['tweets']\n",
        "example = tweets[100]\n",
        "print(example)"
      ],
      "execution_count": 77,
      "outputs": [
        {
          "output_type": "stream",
          "text": [
            "@VirginAmerica trying to add my boy Prince to my ressie. SF this Thursday @VirginAmerica from LAX http://t.co/GsB2J3c4gM\n"
          ],
          "name": "stdout"
        }
      ]
    },
    {
      "cell_type": "markdown",
      "metadata": {
        "id": "pxgBKXxDzl4U",
        "colab_type": "text"
      },
      "source": [
        "Cleaning the data"
      ]
    },
    {
      "cell_type": "code",
      "metadata": {
        "id": "RmC8oo7jo58H",
        "colab_type": "code",
        "colab": {
          "base_uri": "https://localhost:8080/",
          "height": 54
        },
        "outputId": "2cf5db7b-742b-46b3-dd29-9a5540a05439"
      },
      "source": [
        "nltk.download('stopwords')                 # download the stopwords from NLTK\n",
        "import re                                  # library for regular expression operations\n",
        "import string                              # for string operations\n",
        "\n",
        "from nltk.corpus import stopwords          # module for stop words that come with NLTK\n",
        "from nltk.stem import PorterStemmer        # module for stemming\n",
        "from nltk.tokenize import TweetTokenizer   # module for tokenizing strings\n",
        "\n",
        "#Import the english stop words list from NLTK\n",
        "stopwords_english = stopwords.words('english')"
      ],
      "execution_count": 78,
      "outputs": [
        {
          "output_type": "stream",
          "text": [
            "[nltk_data] Downloading package stopwords to /root/nltk_data...\n",
            "[nltk_data]   Package stopwords is already up-to-date!\n"
          ],
          "name": "stdout"
        }
      ]
    },
    {
      "cell_type": "markdown",
      "metadata": {
        "id": "ZpxHRR3KwTND",
        "colab_type": "text"
      },
      "source": [
        "###Removing hyperlinks and twitter mark styles"
      ]
    },
    {
      "cell_type": "code",
      "metadata": {
        "id": "FX_SY7ywpxdz",
        "colab_type": "code",
        "colab": {
          "base_uri": "https://localhost:8080/",
          "height": 129
        },
        "outputId": "6601252d-8bb3-44a7-b4eb-06e8ff1ab3ca"
      },
      "source": [
        "print('\\033[92m' + example)\n",
        "print('\\033[94m')\n",
        "\n",
        "# remove old style retweet text \"RT\"\n",
        "tw = re.sub(r'^RT[\\s]+', '', example)\n",
        "\n",
        "# remove hyperlinks\n",
        "tw = re.sub(r'https?:\\/\\/.*[\\r\\n]*', '', tw)\n",
        "\n",
        "# remove hashtags\n",
        "# only removing the hash # sign from the word\n",
        "tw = re.sub(r'#', '', tw)\n",
        "\n",
        "print(tw)\n",
        "\n",
        "#removing mentions \n",
        "print('\\033[95m')\n",
        "new_tweet = re.sub(r'@[A-Za-z0-9]+','',tw)\n",
        "\n",
        "print(new_tweet)"
      ],
      "execution_count": 79,
      "outputs": [
        {
          "output_type": "stream",
          "text": [
            "\u001b[92m@VirginAmerica trying to add my boy Prince to my ressie. SF this Thursday @VirginAmerica from LAX http://t.co/GsB2J3c4gM\n",
            "\u001b[94m\n",
            "@VirginAmerica trying to add my boy Prince to my ressie. SF this Thursday @VirginAmerica from LAX \n",
            "\u001b[95m\n",
            " trying to add my boy Prince to my ressie. SF this Thursday  from LAX \n"
          ],
          "name": "stdout"
        }
      ]
    },
    {
      "cell_type": "markdown",
      "metadata": {
        "id": "c3y7b2zm0SUS",
        "colab_type": "text"
      },
      "source": [
        "We've removed the url and mention in the tweet above. This is the first step  in cleaning the data"
      ]
    },
    {
      "cell_type": "markdown",
      "metadata": {
        "id": "JcOfh4hM0-Xn",
        "colab_type": "text"
      },
      "source": [
        "###Tokenizing"
      ]
    },
    {
      "cell_type": "markdown",
      "metadata": {
        "id": "eGPfN_NnF9iV",
        "colab_type": "text"
      },
      "source": [
        "Tokenization is the process of converting a sequence of strings into a sequence of tokens (words, symbols, keywords etc)"
      ]
    },
    {
      "cell_type": "code",
      "metadata": {
        "id": "Mecb2UpYqw-Z",
        "colab_type": "code",
        "colab": {
          "base_uri": "https://localhost:8080/",
          "height": 127
        },
        "outputId": "48d4d388-aba5-42a9-9f99-29493a053f05"
      },
      "source": [
        "print()\n",
        "print('\\033[92m' + new_tweet)\n",
        "print('\\033[94m')\n",
        "\n",
        "# instantiate tokenizer class\n",
        "tokenizer = TweetTokenizer(preserve_case=False, strip_handles=True,\n",
        "                               reduce_len=True)\n",
        "\n",
        "# tokenize tweets\n",
        "tweet_tokens = tokenizer.tokenize(new_tweet)\n",
        "\n",
        "print()\n",
        "print('Tokenized string:')\n",
        "print(tweet_tokens)"
      ],
      "execution_count": 80,
      "outputs": [
        {
          "output_type": "stream",
          "text": [
            "\n",
            "\u001b[92m trying to add my boy Prince to my ressie. SF this Thursday  from LAX \n",
            "\u001b[94m\n",
            "\n",
            "Tokenized string:\n",
            "['trying', 'to', 'add', 'my', 'boy', 'prince', 'to', 'my', 'ressie', '.', 'sf', 'this', 'thursday', 'from', 'lax']\n"
          ],
          "name": "stdout"
        }
      ]
    },
    {
      "cell_type": "markdown",
      "metadata": {
        "id": "uucUMLkL1kyj",
        "colab_type": "text"
      },
      "source": [
        "The next step is to clean up the tokenized tweet by removing stop words. Those are the words that do not affect the sentiment of the tweet author when removed. For instance, when someone says \"I am happy\", removing the pronoun \"I\" doesn't change anything to the person emotions"
      ]
    },
    {
      "cell_type": "markdown",
      "metadata": {
        "id": "tkUpJyexVlM8",
        "colab_type": "text"
      },
      "source": [
        "###Removing stopwords and punctuations"
      ]
    },
    {
      "cell_type": "code",
      "metadata": {
        "id": "VRudjNL_sGiM",
        "colab_type": "code",
        "colab": {
          "base_uri": "https://localhost:8080/",
          "height": 54
        },
        "outputId": "74383bec-88c0-497b-c755-ba2b003118a5"
      },
      "source": [
        "tweets_clean = []\n",
        "\n",
        "for word in tweet_tokens: # Go through every word in your tokens list\n",
        "    if (word not in stopwords_english and  # remove stopwords\n",
        "        word not in string.punctuation):  # remove punctuation\n",
        "        tweets_clean.append(word)\n",
        "\n",
        "print('removed stop words and punctuation:')\n",
        "print(tweets_clean)"
      ],
      "execution_count": 81,
      "outputs": [
        {
          "output_type": "stream",
          "text": [
            "removed stop words and punctuation:\n",
            "['trying', 'add', 'boy', 'prince', 'ressie', 'sf', 'thursday', 'lax']\n"
          ],
          "name": "stdout"
        }
      ]
    },
    {
      "cell_type": "markdown",
      "metadata": {
        "id": "MAYDspqg24CX",
        "colab_type": "text"
      },
      "source": [
        "###Stemming"
      ]
    },
    {
      "cell_type": "markdown",
      "metadata": {
        "id": "xB_31qMTGm7U",
        "colab_type": "text"
      },
      "source": [
        "I have copied an explanation from the web here (https://machinelearningmastery.com/clean-text-machine-learning-python/):\n",
        "\n",
        "*Stemming* refers to the process of reducing each word to its root or base.\n",
        "\n",
        "For example “fishing,” “fished,” “fisher” all reduce to the stem “fish.”\n",
        "\n",
        "Some applications, like document classification, may benefit from stemming in order to both reduce the vocabulary and to focus on the sense or sentiment of a document rather than deeper meanin"
      ]
    },
    {
      "cell_type": "code",
      "metadata": {
        "id": "Qki3wsgj2hZM",
        "colab_type": "code",
        "colab": {
          "base_uri": "https://localhost:8080/",
          "height": 54
        },
        "outputId": "1dd0af92-f2be-4e22-ed3d-0d429095cf6e"
      },
      "source": [
        "# Instantiate stemming class\n",
        "stemmer = PorterStemmer() \n",
        "\n",
        "# Create an empty list to store the stems\n",
        "tweets_stem = [] \n",
        "\n",
        "for word in tweets_clean:\n",
        "    stem_word = stemmer.stem(word)  # stemming word\n",
        "    tweets_stem.append(stem_word)  # append to the list\n",
        "\n",
        "print('stemmed words:')\n",
        "print(tweets_stem)"
      ],
      "execution_count": 82,
      "outputs": [
        {
          "output_type": "stream",
          "text": [
            "stemmed words:\n",
            "['tri', 'add', 'boy', 'princ', 'ressi', 'sf', 'thursday', 'lax']\n"
          ],
          "name": "stdout"
        }
      ]
    },
    {
      "cell_type": "markdown",
      "metadata": {
        "id": "spH7llVU5CEn",
        "colab_type": "text"
      },
      "source": [
        "#Preprocessing the hole dataset"
      ]
    },
    {
      "cell_type": "markdown",
      "metadata": {
        "id": "1ff4X51-U60J",
        "colab_type": "text"
      },
      "source": [
        "Some useful functions"
      ]
    },
    {
      "cell_type": "code",
      "metadata": {
        "id": "_SO1TSa5RQB8",
        "colab_type": "code",
        "colab": {}
      },
      "source": [
        "#function removing stop words and punctuations\n",
        "def remove_stopwords_punctuation(tokenize_tweet):\n",
        "  output = [word for word in tokenize_tweet if word not in stopwords_english and word not in string.punctuation]\n",
        "  return output\n",
        "\n",
        "#stemming function\n",
        "def stem_tweet(input_tweet):\n",
        "  stemmed = [stemmer.stem(word) for word in input_tweet]\n",
        "  return stemmed"
      ],
      "execution_count": 83,
      "outputs": []
    },
    {
      "cell_type": "code",
      "metadata": {
        "id": "VjDssC7v27Y-",
        "colab_type": "code",
        "colab": {}
      },
      "source": [
        "tweets = tweets.apply(lambda x: x.lower())                              #lower caseing\n",
        "tweets = tweets.apply(lambda x: re.sub(r'^RT[\\s]+', '', x))             #remove retweet text \"RT\"\n",
        "tweets = tweets.apply(lambda x: re.sub(r'https?:\\/\\/.*[\\r\\n]*', '', x)) #removing hyperlinks\n",
        "tweets = tweets.apply(lambda x: re.sub(r'#', '', x))                    #removing hash # sign\n",
        "tweets = tweets.apply(lambda x: re.sub(r'@[A-Za-z0-9]+','',x))           #removing the mentions\n",
        "tweets = tweets.apply(lambda x: tokenizer.tokenize(x))                  #tokenize tweets\n",
        "tweets = tweets.apply(lambda x: remove_stopwords_punctuation(x))        #removing stopwords and punctuation\n",
        "tweets = tweets.apply(lambda x: stem_tweet(x))                          #stemming"
      ],
      "execution_count": 84,
      "outputs": []
    },
    {
      "cell_type": "markdown",
      "metadata": {
        "id": "TvNeCtp1XOS7",
        "colab_type": "text"
      },
      "source": [
        "#Bag of word : Features extraction"
      ]
    },
    {
      "cell_type": "markdown",
      "metadata": {
        "id": "Io5b9s2JXz1k",
        "colab_type": "text"
      },
      "source": [
        "The bag-of-words model is a way of representing text data when modeling text with machine learning algorithms. Since ML algorithms cannot work with raw text directly, the text has to be converted to vectors of numbers by building a vocabulary that allows to encode any text as an array of numbers.  \n",
        "\n",
        "The vocabulary describes the occurences of words within tweets. \n",
        "\n"
      ]
    },
    {
      "cell_type": "markdown",
      "metadata": {
        "id": "ZxqADVg_fGhn",
        "colab_type": "text"
      },
      "source": [
        "Let's take as an example the corpus composed of 4 tweets below: \\\\ \n",
        "\n",
        "**I am ready to go** \\\\\n",
        "**I am  happy** \\\\\n",
        "**I went out with my friends** \\\\\n",
        "**I am not happy today**\n",
        "\n",
        "The vocabulary V is the list of unique words from the tweets: \\\\\n",
        "$V = [I, am,ready,to,go,happy,went,out,with,my,friends, not, today]$ "
      ]
    },
    {
      "cell_type": "markdown",
      "metadata": {
        "id": "iZI02NjrljcZ",
        "colab_type": "text"
      },
      "source": [
        "If a word in the vocabulary is not found in the corresponding tweet, the document feature vector will have zero in that place. \\\\\n",
        "\n",
        "$tweet_1=[1,1,1,1,1,0,0,0,0,0,0,0,0]$ \\\\\n",
        "$tweet_2=[1,1,0,0,0,1,0,0,0,0,0,0,0]$ \\\\\n",
        "$tweet_3=[1,0,0,0,0,0,1,1,1,1,1,0,0]$ \\\\\n",
        "$tweet_4=[1,1,0,0,0,1,0,0,0,0,0,1,1]$"
      ]
    },
    {
      "cell_type": "code",
      "metadata": {
        "id": "ZEegltlZVze2",
        "colab_type": "code",
        "colab": {}
      },
      "source": [
        "from sklearn.feature_extraction.text import TfidfVectorizer"
      ],
      "execution_count": 85,
      "outputs": []
    },
    {
      "cell_type": "markdown",
      "metadata": {
        "id": "EC4BNqbm_8cM",
        "colab_type": "text"
      },
      "source": [
        "We've got a list (tweets) so since list object has no attribute lower and we have already lowercased during the preprocessing, we set lowercase to false to prevent errors. Besides our list of tweets is already tokenized, that's the reason why we defined the function identity_tokenizer"
      ]
    },
    {
      "cell_type": "code",
      "metadata": {
        "id": "Gj_ZzddPoJcJ",
        "colab_type": "code",
        "colab": {}
      },
      "source": [
        "\n",
        "def identity_tokenizer(text):\n",
        "    return text\n",
        "\n",
        "vectorizer = TfidfVectorizer (tokenizer=identity_tokenizer, max_features=2500, min_df=7, max_df=0.8, lowercase=False)\n",
        "processed_features = vectorizer.fit_transform(tweets).toarray()"
      ],
      "execution_count": 86,
      "outputs": []
    },
    {
      "cell_type": "code",
      "metadata": {
        "id": "X7ecQzAW2Aet",
        "colab_type": "code",
        "colab": {
          "base_uri": "https://localhost:8080/",
          "height": 256
        },
        "outputId": "68b9cb40-12b2-4f49-fbf0-3d2299318c11"
      },
      "source": [
        "processed_features"
      ],
      "execution_count": 87,
      "outputs": [
        {
          "output_type": "execute_result",
          "data": {
            "text/plain": [
              "array([[0.        , 0.        , 0.        , ..., 0.        , 0.        ,\n",
              "        0.        ],\n",
              "       [0.        , 0.        , 0.27434977, ..., 0.        , 0.        ,\n",
              "        0.        ],\n",
              "       [0.        , 0.        , 0.25936248, ..., 0.        , 0.        ,\n",
              "        0.        ],\n",
              "       ...,\n",
              "       [0.        , 0.        , 0.        , ..., 0.        , 0.        ,\n",
              "        0.        ],\n",
              "       [0.        , 0.        , 0.        , ..., 0.        , 0.        ,\n",
              "        0.        ],\n",
              "       [0.        , 0.        , 0.        , ..., 0.        , 0.        ,\n",
              "        0.        ]])"
            ]
          },
          "metadata": {
            "tags": []
          },
          "execution_count": 87
        }
      ]
    },
    {
      "cell_type": "markdown",
      "metadata": {
        "id": "O5GUhcjE6jZW",
        "colab_type": "text"
      },
      "source": [
        "#Split into training and test sets"
      ]
    },
    {
      "cell_type": "code",
      "metadata": {
        "id": "HkeUw1w86yDV",
        "colab_type": "code",
        "colab": {}
      },
      "source": [
        "labels = new_data['sentiment'] #target data"
      ],
      "execution_count": 88,
      "outputs": []
    },
    {
      "cell_type": "code",
      "metadata": {
        "id": "sEPqvQDs5ySH",
        "colab_type": "code",
        "colab": {}
      },
      "source": [
        "X_train, X_test, y_train, y_test = train_test_split(processed_features, labels, test_size=0.2, random_state=0)"
      ],
      "execution_count": 89,
      "outputs": []
    },
    {
      "cell_type": "markdown",
      "metadata": {
        "id": "sArv4-PO7cyn",
        "colab_type": "text"
      },
      "source": [
        "#Fit a linear logistic model"
      ]
    },
    {
      "cell_type": "code",
      "metadata": {
        "id": "mfx7SLlb7WCw",
        "colab_type": "code",
        "colab": {
          "base_uri": "https://localhost:8080/",
          "height": 109
        },
        "outputId": "9facd2ea-cb54-4835-a6c9-64b3d720822f"
      },
      "source": [
        "from sklearn.linear_model import LogisticRegression\n",
        "model = LogisticRegression( C=0.1)\n",
        "model.fit(X_train, y_train)"
      ],
      "execution_count": 91,
      "outputs": [
        {
          "output_type": "execute_result",
          "data": {
            "text/plain": [
              "LogisticRegression(C=0.1, class_weight=None, dual=False, fit_intercept=True,\n",
              "                   intercept_scaling=1, l1_ratio=None, max_iter=100,\n",
              "                   multi_class='auto', n_jobs=None, penalty='l2',\n",
              "                   random_state=None, solver='lbfgs', tol=0.0001, verbose=0,\n",
              "                   warm_start=False)"
            ]
          },
          "metadata": {
            "tags": []
          },
          "execution_count": 91
        }
      ]
    },
    {
      "cell_type": "markdown",
      "metadata": {
        "id": "r-WgJ1X68_xs",
        "colab_type": "text"
      },
      "source": [
        "###make predictions"
      ]
    },
    {
      "cell_type": "code",
      "metadata": {
        "id": "2MVGK3JJ8t4S",
        "colab_type": "code",
        "colab": {
          "base_uri": "https://localhost:8080/",
          "height": 54
        },
        "outputId": "96ccf9ce-9a61-4803-84cd-bce0c9861e08"
      },
      "source": [
        "y_pred = model.predict(X_test)\n",
        "y_pred"
      ],
      "execution_count": 92,
      "outputs": [
        {
          "output_type": "execute_result",
          "data": {
            "text/plain": [
              "array(['negative', 'negative', 'negative', ..., 'negative', 'negative',\n",
              "       'negative'], dtype=object)"
            ]
          },
          "metadata": {
            "tags": []
          },
          "execution_count": 92
        }
      ]
    },
    {
      "cell_type": "markdown",
      "metadata": {
        "id": "W-L8hE7g90C9",
        "colab_type": "text"
      },
      "source": [
        "To evaluate the performance of the machine learning models, we can use classification metrics such as a confusion metrix, F1 measure, accuracy, etc."
      ]
    },
    {
      "cell_type": "code",
      "metadata": {
        "id": "3ukRGH2F9I9p",
        "colab_type": "code",
        "colab": {}
      },
      "source": [
        "from sklearn.metrics import classification_report, confusion_matrix, accuracy_score"
      ],
      "execution_count": 93,
      "outputs": []
    },
    {
      "cell_type": "code",
      "metadata": {
        "id": "lIv8yMWu-HaW",
        "colab_type": "code",
        "colab": {
          "base_uri": "https://localhost:8080/",
          "height": 274
        },
        "outputId": "02bb55c2-584e-46e9-bdf1-1312fcf68253"
      },
      "source": [
        "print(confusion_matrix(y_test,y_pred))\n",
        "print(classification_report(y_test,y_pred))\n",
        "print(accuracy_score(y_test, y_pred))"
      ],
      "execution_count": 94,
      "outputs": [
        {
          "output_type": "stream",
          "text": [
            "[[1840   17   13]\n",
            " [ 482  109   23]\n",
            " [ 245   20  179]]\n",
            "              precision    recall  f1-score   support\n",
            "\n",
            "    negative       0.72      0.98      0.83      1870\n",
            "     neutral       0.75      0.18      0.29       614\n",
            "    positive       0.83      0.40      0.54       444\n",
            "\n",
            "    accuracy                           0.73      2928\n",
            "   macro avg       0.77      0.52      0.55      2928\n",
            "weighted avg       0.74      0.73      0.67      2928\n",
            "\n",
            "0.726775956284153\n"
          ],
          "name": "stdout"
        }
      ]
    },
    {
      "cell_type": "code",
      "metadata": {
        "id": "PvdC4_pS_vRi",
        "colab_type": "code",
        "colab": {}
      },
      "source": [
        ""
      ],
      "execution_count": null,
      "outputs": []
    }
  ]
}